{
 "cells": [
  {
   "cell_type": "code",
   "execution_count": 2,
   "metadata": {
    "collapsed": true,
    "ExecuteTime": {
     "end_time": "2023-05-17T01:41:59.680613400Z",
     "start_time": "2023-05-17T01:41:59.676612Z"
    }
   },
   "outputs": [],
   "source": [
    "import pandas as pd"
   ]
  },
  {
   "cell_type": "code",
   "execution_count": 4,
   "outputs": [],
   "source": [
    "df = pd.read_excel(\"./Sample - Superstore.xls\")"
   ],
   "metadata": {
    "collapsed": false,
    "ExecuteTime": {
     "end_time": "2023-05-17T01:44:28.412677500Z",
     "start_time": "2023-05-17T01:44:28.079729600Z"
    }
   }
  },
  {
   "cell_type": "code",
   "execution_count": 5,
   "outputs": [
    {
     "data": {
      "text/plain": "   Row ID        Order ID Order Date  Ship Date       Ship Mode Customer ID   \n0       1  CA-2016-152156 2016-11-08 2016-11-11    Second Class    CG-12520  \\\n1       2  CA-2016-152156 2016-11-08 2016-11-11    Second Class    CG-12520   \n2       3  CA-2016-138688 2016-06-12 2016-06-16    Second Class    DV-13045   \n3       4  US-2015-108966 2015-10-11 2015-10-18  Standard Class    SO-20335   \n4       5  US-2015-108966 2015-10-11 2015-10-18  Standard Class    SO-20335   \n\n     Customer Name    Segment        Country             City  ...   \n0      Claire Gute   Consumer  United States        Henderson  ...  \\\n1      Claire Gute   Consumer  United States        Henderson  ...   \n2  Darrin Van Huff  Corporate  United States      Los Angeles  ...   \n3   Sean O'Donnell   Consumer  United States  Fort Lauderdale  ...   \n4   Sean O'Donnell   Consumer  United States  Fort Lauderdale  ...   \n\n  Postal Code  Region       Product ID         Category Sub-Category   \n0       42420   South  FUR-BO-10001798        Furniture    Bookcases  \\\n1       42420   South  FUR-CH-10000454        Furniture       Chairs   \n2       90036    West  OFF-LA-10000240  Office Supplies       Labels   \n3       33311   South  FUR-TA-10000577        Furniture       Tables   \n4       33311   South  OFF-ST-10000760  Office Supplies      Storage   \n\n                                        Product Name     Sales  Quantity   \n0                  Bush Somerset Collection Bookcase  261.9600         2  \\\n1  Hon Deluxe Fabric Upholstered Stacking Chairs,...  731.9400         3   \n2  Self-Adhesive Address Labels for Typewriters b...   14.6200         2   \n3      Bretford CR4500 Series Slim Rectangular Table  957.5775         5   \n4                     Eldon Fold 'N Roll Cart System   22.3680         2   \n\n   Discount    Profit  \n0      0.00   41.9136  \n1      0.00  219.5820  \n2      0.00    6.8714  \n3      0.45 -383.0310  \n4      0.20    2.5164  \n\n[5 rows x 21 columns]",
      "text/html": "<div>\n<style scoped>\n    .dataframe tbody tr th:only-of-type {\n        vertical-align: middle;\n    }\n\n    .dataframe tbody tr th {\n        vertical-align: top;\n    }\n\n    .dataframe thead th {\n        text-align: right;\n    }\n</style>\n<table border=\"1\" class=\"dataframe\">\n  <thead>\n    <tr style=\"text-align: right;\">\n      <th></th>\n      <th>Row ID</th>\n      <th>Order ID</th>\n      <th>Order Date</th>\n      <th>Ship Date</th>\n      <th>Ship Mode</th>\n      <th>Customer ID</th>\n      <th>Customer Name</th>\n      <th>Segment</th>\n      <th>Country</th>\n      <th>City</th>\n      <th>...</th>\n      <th>Postal Code</th>\n      <th>Region</th>\n      <th>Product ID</th>\n      <th>Category</th>\n      <th>Sub-Category</th>\n      <th>Product Name</th>\n      <th>Sales</th>\n      <th>Quantity</th>\n      <th>Discount</th>\n      <th>Profit</th>\n    </tr>\n  </thead>\n  <tbody>\n    <tr>\n      <th>0</th>\n      <td>1</td>\n      <td>CA-2016-152156</td>\n      <td>2016-11-08</td>\n      <td>2016-11-11</td>\n      <td>Second Class</td>\n      <td>CG-12520</td>\n      <td>Claire Gute</td>\n      <td>Consumer</td>\n      <td>United States</td>\n      <td>Henderson</td>\n      <td>...</td>\n      <td>42420</td>\n      <td>South</td>\n      <td>FUR-BO-10001798</td>\n      <td>Furniture</td>\n      <td>Bookcases</td>\n      <td>Bush Somerset Collection Bookcase</td>\n      <td>261.9600</td>\n      <td>2</td>\n      <td>0.00</td>\n      <td>41.9136</td>\n    </tr>\n    <tr>\n      <th>1</th>\n      <td>2</td>\n      <td>CA-2016-152156</td>\n      <td>2016-11-08</td>\n      <td>2016-11-11</td>\n      <td>Second Class</td>\n      <td>CG-12520</td>\n      <td>Claire Gute</td>\n      <td>Consumer</td>\n      <td>United States</td>\n      <td>Henderson</td>\n      <td>...</td>\n      <td>42420</td>\n      <td>South</td>\n      <td>FUR-CH-10000454</td>\n      <td>Furniture</td>\n      <td>Chairs</td>\n      <td>Hon Deluxe Fabric Upholstered Stacking Chairs,...</td>\n      <td>731.9400</td>\n      <td>3</td>\n      <td>0.00</td>\n      <td>219.5820</td>\n    </tr>\n    <tr>\n      <th>2</th>\n      <td>3</td>\n      <td>CA-2016-138688</td>\n      <td>2016-06-12</td>\n      <td>2016-06-16</td>\n      <td>Second Class</td>\n      <td>DV-13045</td>\n      <td>Darrin Van Huff</td>\n      <td>Corporate</td>\n      <td>United States</td>\n      <td>Los Angeles</td>\n      <td>...</td>\n      <td>90036</td>\n      <td>West</td>\n      <td>OFF-LA-10000240</td>\n      <td>Office Supplies</td>\n      <td>Labels</td>\n      <td>Self-Adhesive Address Labels for Typewriters b...</td>\n      <td>14.6200</td>\n      <td>2</td>\n      <td>0.00</td>\n      <td>6.8714</td>\n    </tr>\n    <tr>\n      <th>3</th>\n      <td>4</td>\n      <td>US-2015-108966</td>\n      <td>2015-10-11</td>\n      <td>2015-10-18</td>\n      <td>Standard Class</td>\n      <td>SO-20335</td>\n      <td>Sean O'Donnell</td>\n      <td>Consumer</td>\n      <td>United States</td>\n      <td>Fort Lauderdale</td>\n      <td>...</td>\n      <td>33311</td>\n      <td>South</td>\n      <td>FUR-TA-10000577</td>\n      <td>Furniture</td>\n      <td>Tables</td>\n      <td>Bretford CR4500 Series Slim Rectangular Table</td>\n      <td>957.5775</td>\n      <td>5</td>\n      <td>0.45</td>\n      <td>-383.0310</td>\n    </tr>\n    <tr>\n      <th>4</th>\n      <td>5</td>\n      <td>US-2015-108966</td>\n      <td>2015-10-11</td>\n      <td>2015-10-18</td>\n      <td>Standard Class</td>\n      <td>SO-20335</td>\n      <td>Sean O'Donnell</td>\n      <td>Consumer</td>\n      <td>United States</td>\n      <td>Fort Lauderdale</td>\n      <td>...</td>\n      <td>33311</td>\n      <td>South</td>\n      <td>OFF-ST-10000760</td>\n      <td>Office Supplies</td>\n      <td>Storage</td>\n      <td>Eldon Fold 'N Roll Cart System</td>\n      <td>22.3680</td>\n      <td>2</td>\n      <td>0.20</td>\n      <td>2.5164</td>\n    </tr>\n  </tbody>\n</table>\n<p>5 rows × 21 columns</p>\n</div>"
     },
     "execution_count": 5,
     "metadata": {},
     "output_type": "execute_result"
    }
   ],
   "source": [
    "df.head()"
   ],
   "metadata": {
    "collapsed": false,
    "ExecuteTime": {
     "end_time": "2023-05-17T01:44:32.792892100Z",
     "start_time": "2023-05-17T01:44:32.724342600Z"
    }
   }
  },
  {
   "cell_type": "code",
   "execution_count": 7,
   "outputs": [],
   "source": [
    "df.columns = [str(c).lower().replace(\" \", \"_\").replace(\"-\", \"_\") for  c in df.columns]"
   ],
   "metadata": {
    "collapsed": false,
    "ExecuteTime": {
     "end_time": "2023-05-17T01:46:13.757168100Z",
     "start_time": "2023-05-17T01:46:13.753121500Z"
    }
   }
  },
  {
   "cell_type": "code",
   "execution_count": 8,
   "outputs": [
    {
     "data": {
      "text/plain": "   row_id        order_id order_date  ship_date       ship_mode customer_id   \n0       1  CA-2016-152156 2016-11-08 2016-11-11    Second Class    CG-12520  \\\n1       2  CA-2016-152156 2016-11-08 2016-11-11    Second Class    CG-12520   \n2       3  CA-2016-138688 2016-06-12 2016-06-16    Second Class    DV-13045   \n3       4  US-2015-108966 2015-10-11 2015-10-18  Standard Class    SO-20335   \n4       5  US-2015-108966 2015-10-11 2015-10-18  Standard Class    SO-20335   \n\n     customer_name    segment        country             city  ...   \n0      Claire Gute   Consumer  United States        Henderson  ...  \\\n1      Claire Gute   Consumer  United States        Henderson  ...   \n2  Darrin Van Huff  Corporate  United States      Los Angeles  ...   \n3   Sean O'Donnell   Consumer  United States  Fort Lauderdale  ...   \n4   Sean O'Donnell   Consumer  United States  Fort Lauderdale  ...   \n\n  postal_code  region       product_id         category sub_category   \n0       42420   South  FUR-BO-10001798        Furniture    Bookcases  \\\n1       42420   South  FUR-CH-10000454        Furniture       Chairs   \n2       90036    West  OFF-LA-10000240  Office Supplies       Labels   \n3       33311   South  FUR-TA-10000577        Furniture       Tables   \n4       33311   South  OFF-ST-10000760  Office Supplies      Storage   \n\n                                        product_name     sales  quantity   \n0                  Bush Somerset Collection Bookcase  261.9600         2  \\\n1  Hon Deluxe Fabric Upholstered Stacking Chairs,...  731.9400         3   \n2  Self-Adhesive Address Labels for Typewriters b...   14.6200         2   \n3      Bretford CR4500 Series Slim Rectangular Table  957.5775         5   \n4                     Eldon Fold 'N Roll Cart System   22.3680         2   \n\n   discount    profit  \n0      0.00   41.9136  \n1      0.00  219.5820  \n2      0.00    6.8714  \n3      0.45 -383.0310  \n4      0.20    2.5164  \n\n[5 rows x 21 columns]",
      "text/html": "<div>\n<style scoped>\n    .dataframe tbody tr th:only-of-type {\n        vertical-align: middle;\n    }\n\n    .dataframe tbody tr th {\n        vertical-align: top;\n    }\n\n    .dataframe thead th {\n        text-align: right;\n    }\n</style>\n<table border=\"1\" class=\"dataframe\">\n  <thead>\n    <tr style=\"text-align: right;\">\n      <th></th>\n      <th>row_id</th>\n      <th>order_id</th>\n      <th>order_date</th>\n      <th>ship_date</th>\n      <th>ship_mode</th>\n      <th>customer_id</th>\n      <th>customer_name</th>\n      <th>segment</th>\n      <th>country</th>\n      <th>city</th>\n      <th>...</th>\n      <th>postal_code</th>\n      <th>region</th>\n      <th>product_id</th>\n      <th>category</th>\n      <th>sub_category</th>\n      <th>product_name</th>\n      <th>sales</th>\n      <th>quantity</th>\n      <th>discount</th>\n      <th>profit</th>\n    </tr>\n  </thead>\n  <tbody>\n    <tr>\n      <th>0</th>\n      <td>1</td>\n      <td>CA-2016-152156</td>\n      <td>2016-11-08</td>\n      <td>2016-11-11</td>\n      <td>Second Class</td>\n      <td>CG-12520</td>\n      <td>Claire Gute</td>\n      <td>Consumer</td>\n      <td>United States</td>\n      <td>Henderson</td>\n      <td>...</td>\n      <td>42420</td>\n      <td>South</td>\n      <td>FUR-BO-10001798</td>\n      <td>Furniture</td>\n      <td>Bookcases</td>\n      <td>Bush Somerset Collection Bookcase</td>\n      <td>261.9600</td>\n      <td>2</td>\n      <td>0.00</td>\n      <td>41.9136</td>\n    </tr>\n    <tr>\n      <th>1</th>\n      <td>2</td>\n      <td>CA-2016-152156</td>\n      <td>2016-11-08</td>\n      <td>2016-11-11</td>\n      <td>Second Class</td>\n      <td>CG-12520</td>\n      <td>Claire Gute</td>\n      <td>Consumer</td>\n      <td>United States</td>\n      <td>Henderson</td>\n      <td>...</td>\n      <td>42420</td>\n      <td>South</td>\n      <td>FUR-CH-10000454</td>\n      <td>Furniture</td>\n      <td>Chairs</td>\n      <td>Hon Deluxe Fabric Upholstered Stacking Chairs,...</td>\n      <td>731.9400</td>\n      <td>3</td>\n      <td>0.00</td>\n      <td>219.5820</td>\n    </tr>\n    <tr>\n      <th>2</th>\n      <td>3</td>\n      <td>CA-2016-138688</td>\n      <td>2016-06-12</td>\n      <td>2016-06-16</td>\n      <td>Second Class</td>\n      <td>DV-13045</td>\n      <td>Darrin Van Huff</td>\n      <td>Corporate</td>\n      <td>United States</td>\n      <td>Los Angeles</td>\n      <td>...</td>\n      <td>90036</td>\n      <td>West</td>\n      <td>OFF-LA-10000240</td>\n      <td>Office Supplies</td>\n      <td>Labels</td>\n      <td>Self-Adhesive Address Labels for Typewriters b...</td>\n      <td>14.6200</td>\n      <td>2</td>\n      <td>0.00</td>\n      <td>6.8714</td>\n    </tr>\n    <tr>\n      <th>3</th>\n      <td>4</td>\n      <td>US-2015-108966</td>\n      <td>2015-10-11</td>\n      <td>2015-10-18</td>\n      <td>Standard Class</td>\n      <td>SO-20335</td>\n      <td>Sean O'Donnell</td>\n      <td>Consumer</td>\n      <td>United States</td>\n      <td>Fort Lauderdale</td>\n      <td>...</td>\n      <td>33311</td>\n      <td>South</td>\n      <td>FUR-TA-10000577</td>\n      <td>Furniture</td>\n      <td>Tables</td>\n      <td>Bretford CR4500 Series Slim Rectangular Table</td>\n      <td>957.5775</td>\n      <td>5</td>\n      <td>0.45</td>\n      <td>-383.0310</td>\n    </tr>\n    <tr>\n      <th>4</th>\n      <td>5</td>\n      <td>US-2015-108966</td>\n      <td>2015-10-11</td>\n      <td>2015-10-18</td>\n      <td>Standard Class</td>\n      <td>SO-20335</td>\n      <td>Sean O'Donnell</td>\n      <td>Consumer</td>\n      <td>United States</td>\n      <td>Fort Lauderdale</td>\n      <td>...</td>\n      <td>33311</td>\n      <td>South</td>\n      <td>OFF-ST-10000760</td>\n      <td>Office Supplies</td>\n      <td>Storage</td>\n      <td>Eldon Fold 'N Roll Cart System</td>\n      <td>22.3680</td>\n      <td>2</td>\n      <td>0.20</td>\n      <td>2.5164</td>\n    </tr>\n  </tbody>\n</table>\n<p>5 rows × 21 columns</p>\n</div>"
     },
     "execution_count": 8,
     "metadata": {},
     "output_type": "execute_result"
    }
   ],
   "source": [
    "df.head()"
   ],
   "metadata": {
    "collapsed": false,
    "ExecuteTime": {
     "end_time": "2023-05-17T01:46:19.246454600Z",
     "start_time": "2023-05-17T01:46:19.231399300Z"
    }
   }
  },
  {
   "cell_type": "code",
   "execution_count": 9,
   "outputs": [
    {
     "name": "stdout",
     "output_type": "stream",
     "text": [
      "<class 'pandas.core.frame.DataFrame'>\n",
      "RangeIndex: 9994 entries, 0 to 9993\n",
      "Data columns (total 21 columns):\n",
      " #   Column         Non-Null Count  Dtype         \n",
      "---  ------         --------------  -----         \n",
      " 0   row_id         9994 non-null   int64         \n",
      " 1   order_id       9994 non-null   object        \n",
      " 2   order_date     9994 non-null   datetime64[ns]\n",
      " 3   ship_date      9994 non-null   datetime64[ns]\n",
      " 4   ship_mode      9994 non-null   object        \n",
      " 5   customer_id    9994 non-null   object        \n",
      " 6   customer_name  9994 non-null   object        \n",
      " 7   segment        9994 non-null   object        \n",
      " 8   country        9994 non-null   object        \n",
      " 9   city           9994 non-null   object        \n",
      " 10  state          9994 non-null   object        \n",
      " 11  postal_code    9994 non-null   int64         \n",
      " 12  region         9994 non-null   object        \n",
      " 13  product_id     9994 non-null   object        \n",
      " 14  category       9994 non-null   object        \n",
      " 15  sub_category   9994 non-null   object        \n",
      " 16  product_name   9994 non-null   object        \n",
      " 17  sales          9994 non-null   float64       \n",
      " 18  quantity       9994 non-null   int64         \n",
      " 19  discount       9994 non-null   float64       \n",
      " 20  profit         9994 non-null   float64       \n",
      "dtypes: datetime64[ns](2), float64(3), int64(3), object(13)\n",
      "memory usage: 1.6+ MB\n"
     ]
    }
   ],
   "source": [
    "df.info()"
   ],
   "metadata": {
    "collapsed": false,
    "ExecuteTime": {
     "end_time": "2023-05-17T01:46:25.117906300Z",
     "start_time": "2023-05-17T01:46:25.048887300Z"
    }
   }
  },
  {
   "cell_type": "code",
   "execution_count": 14,
   "outputs": [
    {
     "data": {
      "text/plain": "array(['Second Class', 'Standard Class', 'First Class', 'Same Day'],\n      dtype=object)"
     },
     "execution_count": 14,
     "metadata": {},
     "output_type": "execute_result"
    }
   ],
   "source": [
    "df.ship_mode.unique()"
   ],
   "metadata": {
    "collapsed": false,
    "ExecuteTime": {
     "end_time": "2023-05-17T01:47:47.470414400Z",
     "start_time": "2023-05-17T01:47:47.464386900Z"
    }
   }
  },
  {
   "cell_type": "code",
   "execution_count": 21,
   "outputs": [],
   "source": [
    "df_1 = df[df['ship_mode'] == 'First Class']\n",
    "df_2 = df[df['ship_mode'] == 'Second Class']\n",
    "df_3 = df[df['ship_mode'] == 'Standard Class']\n",
    "df_4 = df[df['ship_mode'] == 'Same Day']\n",
    "\n",
    "\n",
    "\n"
   ],
   "metadata": {
    "collapsed": false,
    "ExecuteTime": {
     "end_time": "2023-05-17T01:50:13.995911200Z",
     "start_time": "2023-05-17T01:50:13.988680600Z"
    }
   }
  },
  {
   "cell_type": "code",
   "execution_count": 26,
   "outputs": [
    {
     "data": {
      "text/plain": "array(['#10 White Business Envelopes,4 1/8 x 9 1/2',\n       '1.7 Cubic Foot Compact \"Cube\" Office Refrigerators',\n       '14-7/8 x 11 Blue Bar Computer Printout Paper', ...,\n       'iHome FM Clock Radio with Lightning Dock',\n       'iOttie HLCRIO102 Car Mount',\n       'invisibleSHIELD by ZAGG Smudge-Free Screen Protector'],\n      dtype=object)"
     },
     "execution_count": 26,
     "metadata": {},
     "output_type": "execute_result"
    }
   ],
   "source": [
    "df_1.product_name.sort_values().unique()"
   ],
   "metadata": {
    "collapsed": false,
    "ExecuteTime": {
     "end_time": "2023-05-17T01:52:11.272484700Z",
     "start_time": "2023-05-17T01:52:11.243081Z"
    }
   }
  },
  {
   "cell_type": "code",
   "execution_count": 25,
   "outputs": [
    {
     "data": {
      "text/plain": "array(['\"While you Were Out\" Message Book, One Form per Page',\n       '#10 White Business Envelopes,4 1/8 x 9 1/2',\n       '#10- 4 1/8\" x 9 1/2\" Recycled Envelopes', ...,\n       'iHome FM Clock Radio with Lightning Dock',\n       'invisibleSHIELD by ZAGG Smudge-Free Screen Protector',\n       'netTALK DUO VoIP Telephone Service'], dtype=object)"
     },
     "execution_count": 25,
     "metadata": {},
     "output_type": "execute_result"
    }
   ],
   "source": [
    "df_2.product_name.sort_values().unique()"
   ],
   "metadata": {
    "collapsed": false,
    "ExecuteTime": {
     "end_time": "2023-05-17T01:52:07.969459200Z",
     "start_time": "2023-05-17T01:52:07.941496600Z"
    }
   }
  },
  {
   "cell_type": "code",
   "execution_count": 27,
   "outputs": [
    {
     "data": {
      "text/plain": "                  row_id        order_id order_date  ship_date    ship_mode   \nFirst Class 35        36  CA-2016-117590 2016-12-08 2016-12-10  First Class  \\\n            36        37  CA-2016-117590 2016-12-08 2016-12-10  First Class   \n            44        45  CA-2016-118255 2016-03-11 2016-03-13  First Class   \n            45        46  CA-2016-118255 2016-03-11 2016-03-13  First Class   \n            55        56  CA-2016-111682 2016-06-17 2016-06-18  First Class   \n...                  ...             ...        ...        ...          ...   \nSame Day    9871    9872  CA-2017-146269 2017-10-06 2017-10-06     Same Day   \n            9872    9873  CA-2017-146269 2017-10-06 2017-10-06     Same Day   \n            9928    9929  CA-2016-129630 2016-09-04 2016-09-04     Same Day   \n            9929    9930  CA-2016-129630 2016-09-04 2016-09-04     Same Day   \n            9963    9964  CA-2015-143700 2015-07-26 2015-07-26     Same Day   \n\n                 customer_id    customer_name    segment        country   \nFirst Class 35      GH-14485        Gene Hale  Corporate  United States  \\\n            36      GH-14485        Gene Hale  Corporate  United States   \n            44      ON-18715    Odella Nelson  Corporate  United States   \n            45      ON-18715    Odella Nelson  Corporate  United States   \n            55      TB-21055  Ted Butterfield   Consumer  United States   \n...                      ...              ...        ...            ...   \nSame Day    9871    MH-17455    Mark Hamilton   Consumer  United States   \n            9872    MH-17455    Mark Hamilton   Consumer  United States   \n            9928    IM-15055    Ionia McGrath   Consumer  United States   \n            9929    IM-15055    Ionia McGrath   Consumer  United States   \n            9963    AS-10240     Alan Shonely   Consumer  United States   \n\n                           city  ... postal_code   region       product_id   \nFirst Class 35       Richardson  ...       75080  Central  TEC-PH-10004977  \\\n            36       Richardson  ...       75080  Central  FUR-FU-10003664   \n            44            Eagan  ...       55122  Central  TEC-AC-10000171   \n            45            Eagan  ...       55122  Central  OFF-BI-10003291   \n            55             Troy  ...       12180     East  OFF-ST-10000604   \n...                         ...  ...         ...      ...              ...   \nSame Day    9871        Chicago  ...       60623  Central  OFF-ST-10003208   \n            9872        Chicago  ...       60623  Central  OFF-AR-10004790   \n            9928  San Francisco  ...       94122     West  FUR-FU-10000260   \n            9929  San Francisco  ...       94122     West  TEC-CO-10003763   \n            9963   Philadelphia  ...       19140     East  OFF-PA-10003072   \n\n                         category sub_category   \nFirst Class 35         Technology       Phones  \\\n            36          Furniture  Furnishings   \n            44         Technology  Accessories   \n            45    Office Supplies      Binders   \n            55    Office Supplies      Storage   \n...                           ...          ...   \nSame Day    9871  Office Supplies      Storage   \n            9872  Office Supplies          Art   \n            9928        Furniture  Furnishings   \n            9929       Technology      Copiers   \n            9963  Office Supplies        Paper   \n\n                                                       product_name     sales   \nFirst Class 35                                          GE 30524EE4  1097.544  \\\n            36    Electrix Architect's Clamp-On Swing Arm Lamp, ...   190.920   \n            44    Verbatim 25 GB 6x Blu-ray Single Layer Recorda...    45.980   \n            45    Wilson Jones Leather-Like Binders with DublLoc...    17.460   \n            55                      Home/Office Personal File Carts   208.560   \n...                                                             ...       ...   \nSame Day    9871                 Adjustable Depth Letter/Legal Cart   290.336   \n            9872                            Staples in misc. colors    19.152   \n            9928                       6\" Cubicle Wall Clock, Black    24.270   \n            9929                 Canon PC1060 Personal Laser Copier  2799.960   \n            9963      Eureka Recycled Copy Paper 8 1/2\" x 11\", Ream    10.368   \n\n                  quantity  discount    profit  \nFirst Class 35           7       0.2  123.4737  \n            36           5       0.6 -147.9630  \n            44           2       0.0   19.7714  \n            45           2       0.0    8.2062  \n            55           6       0.0   52.1400  \n...                    ...       ...       ...  \nSame Day    9871         2       0.2   32.6628  \n            9872         2       0.2    1.1970  \n            9928         3       0.0    8.7372  \n            9929         5       0.2  944.9865  \n            9963         2       0.2    3.6288  \n\n[9994 rows x 21 columns]",
      "text/html": "<div>\n<style scoped>\n    .dataframe tbody tr th:only-of-type {\n        vertical-align: middle;\n    }\n\n    .dataframe tbody tr th {\n        vertical-align: top;\n    }\n\n    .dataframe thead th {\n        text-align: right;\n    }\n</style>\n<table border=\"1\" class=\"dataframe\">\n  <thead>\n    <tr style=\"text-align: right;\">\n      <th></th>\n      <th></th>\n      <th>row_id</th>\n      <th>order_id</th>\n      <th>order_date</th>\n      <th>ship_date</th>\n      <th>ship_mode</th>\n      <th>customer_id</th>\n      <th>customer_name</th>\n      <th>segment</th>\n      <th>country</th>\n      <th>city</th>\n      <th>...</th>\n      <th>postal_code</th>\n      <th>region</th>\n      <th>product_id</th>\n      <th>category</th>\n      <th>sub_category</th>\n      <th>product_name</th>\n      <th>sales</th>\n      <th>quantity</th>\n      <th>discount</th>\n      <th>profit</th>\n    </tr>\n  </thead>\n  <tbody>\n    <tr>\n      <th rowspan=\"5\" valign=\"top\">First Class</th>\n      <th>35</th>\n      <td>36</td>\n      <td>CA-2016-117590</td>\n      <td>2016-12-08</td>\n      <td>2016-12-10</td>\n      <td>First Class</td>\n      <td>GH-14485</td>\n      <td>Gene Hale</td>\n      <td>Corporate</td>\n      <td>United States</td>\n      <td>Richardson</td>\n      <td>...</td>\n      <td>75080</td>\n      <td>Central</td>\n      <td>TEC-PH-10004977</td>\n      <td>Technology</td>\n      <td>Phones</td>\n      <td>GE 30524EE4</td>\n      <td>1097.544</td>\n      <td>7</td>\n      <td>0.2</td>\n      <td>123.4737</td>\n    </tr>\n    <tr>\n      <th>36</th>\n      <td>37</td>\n      <td>CA-2016-117590</td>\n      <td>2016-12-08</td>\n      <td>2016-12-10</td>\n      <td>First Class</td>\n      <td>GH-14485</td>\n      <td>Gene Hale</td>\n      <td>Corporate</td>\n      <td>United States</td>\n      <td>Richardson</td>\n      <td>...</td>\n      <td>75080</td>\n      <td>Central</td>\n      <td>FUR-FU-10003664</td>\n      <td>Furniture</td>\n      <td>Furnishings</td>\n      <td>Electrix Architect's Clamp-On Swing Arm Lamp, ...</td>\n      <td>190.920</td>\n      <td>5</td>\n      <td>0.6</td>\n      <td>-147.9630</td>\n    </tr>\n    <tr>\n      <th>44</th>\n      <td>45</td>\n      <td>CA-2016-118255</td>\n      <td>2016-03-11</td>\n      <td>2016-03-13</td>\n      <td>First Class</td>\n      <td>ON-18715</td>\n      <td>Odella Nelson</td>\n      <td>Corporate</td>\n      <td>United States</td>\n      <td>Eagan</td>\n      <td>...</td>\n      <td>55122</td>\n      <td>Central</td>\n      <td>TEC-AC-10000171</td>\n      <td>Technology</td>\n      <td>Accessories</td>\n      <td>Verbatim 25 GB 6x Blu-ray Single Layer Recorda...</td>\n      <td>45.980</td>\n      <td>2</td>\n      <td>0.0</td>\n      <td>19.7714</td>\n    </tr>\n    <tr>\n      <th>45</th>\n      <td>46</td>\n      <td>CA-2016-118255</td>\n      <td>2016-03-11</td>\n      <td>2016-03-13</td>\n      <td>First Class</td>\n      <td>ON-18715</td>\n      <td>Odella Nelson</td>\n      <td>Corporate</td>\n      <td>United States</td>\n      <td>Eagan</td>\n      <td>...</td>\n      <td>55122</td>\n      <td>Central</td>\n      <td>OFF-BI-10003291</td>\n      <td>Office Supplies</td>\n      <td>Binders</td>\n      <td>Wilson Jones Leather-Like Binders with DublLoc...</td>\n      <td>17.460</td>\n      <td>2</td>\n      <td>0.0</td>\n      <td>8.2062</td>\n    </tr>\n    <tr>\n      <th>55</th>\n      <td>56</td>\n      <td>CA-2016-111682</td>\n      <td>2016-06-17</td>\n      <td>2016-06-18</td>\n      <td>First Class</td>\n      <td>TB-21055</td>\n      <td>Ted Butterfield</td>\n      <td>Consumer</td>\n      <td>United States</td>\n      <td>Troy</td>\n      <td>...</td>\n      <td>12180</td>\n      <td>East</td>\n      <td>OFF-ST-10000604</td>\n      <td>Office Supplies</td>\n      <td>Storage</td>\n      <td>Home/Office Personal File Carts</td>\n      <td>208.560</td>\n      <td>6</td>\n      <td>0.0</td>\n      <td>52.1400</td>\n    </tr>\n    <tr>\n      <th>...</th>\n      <th>...</th>\n      <td>...</td>\n      <td>...</td>\n      <td>...</td>\n      <td>...</td>\n      <td>...</td>\n      <td>...</td>\n      <td>...</td>\n      <td>...</td>\n      <td>...</td>\n      <td>...</td>\n      <td>...</td>\n      <td>...</td>\n      <td>...</td>\n      <td>...</td>\n      <td>...</td>\n      <td>...</td>\n      <td>...</td>\n      <td>...</td>\n      <td>...</td>\n      <td>...</td>\n      <td>...</td>\n    </tr>\n    <tr>\n      <th rowspan=\"5\" valign=\"top\">Same Day</th>\n      <th>9871</th>\n      <td>9872</td>\n      <td>CA-2017-146269</td>\n      <td>2017-10-06</td>\n      <td>2017-10-06</td>\n      <td>Same Day</td>\n      <td>MH-17455</td>\n      <td>Mark Hamilton</td>\n      <td>Consumer</td>\n      <td>United States</td>\n      <td>Chicago</td>\n      <td>...</td>\n      <td>60623</td>\n      <td>Central</td>\n      <td>OFF-ST-10003208</td>\n      <td>Office Supplies</td>\n      <td>Storage</td>\n      <td>Adjustable Depth Letter/Legal Cart</td>\n      <td>290.336</td>\n      <td>2</td>\n      <td>0.2</td>\n      <td>32.6628</td>\n    </tr>\n    <tr>\n      <th>9872</th>\n      <td>9873</td>\n      <td>CA-2017-146269</td>\n      <td>2017-10-06</td>\n      <td>2017-10-06</td>\n      <td>Same Day</td>\n      <td>MH-17455</td>\n      <td>Mark Hamilton</td>\n      <td>Consumer</td>\n      <td>United States</td>\n      <td>Chicago</td>\n      <td>...</td>\n      <td>60623</td>\n      <td>Central</td>\n      <td>OFF-AR-10004790</td>\n      <td>Office Supplies</td>\n      <td>Art</td>\n      <td>Staples in misc. colors</td>\n      <td>19.152</td>\n      <td>2</td>\n      <td>0.2</td>\n      <td>1.1970</td>\n    </tr>\n    <tr>\n      <th>9928</th>\n      <td>9929</td>\n      <td>CA-2016-129630</td>\n      <td>2016-09-04</td>\n      <td>2016-09-04</td>\n      <td>Same Day</td>\n      <td>IM-15055</td>\n      <td>Ionia McGrath</td>\n      <td>Consumer</td>\n      <td>United States</td>\n      <td>San Francisco</td>\n      <td>...</td>\n      <td>94122</td>\n      <td>West</td>\n      <td>FUR-FU-10000260</td>\n      <td>Furniture</td>\n      <td>Furnishings</td>\n      <td>6\" Cubicle Wall Clock, Black</td>\n      <td>24.270</td>\n      <td>3</td>\n      <td>0.0</td>\n      <td>8.7372</td>\n    </tr>\n    <tr>\n      <th>9929</th>\n      <td>9930</td>\n      <td>CA-2016-129630</td>\n      <td>2016-09-04</td>\n      <td>2016-09-04</td>\n      <td>Same Day</td>\n      <td>IM-15055</td>\n      <td>Ionia McGrath</td>\n      <td>Consumer</td>\n      <td>United States</td>\n      <td>San Francisco</td>\n      <td>...</td>\n      <td>94122</td>\n      <td>West</td>\n      <td>TEC-CO-10003763</td>\n      <td>Technology</td>\n      <td>Copiers</td>\n      <td>Canon PC1060 Personal Laser Copier</td>\n      <td>2799.960</td>\n      <td>5</td>\n      <td>0.2</td>\n      <td>944.9865</td>\n    </tr>\n    <tr>\n      <th>9963</th>\n      <td>9964</td>\n      <td>CA-2015-143700</td>\n      <td>2015-07-26</td>\n      <td>2015-07-26</td>\n      <td>Same Day</td>\n      <td>AS-10240</td>\n      <td>Alan Shonely</td>\n      <td>Consumer</td>\n      <td>United States</td>\n      <td>Philadelphia</td>\n      <td>...</td>\n      <td>19140</td>\n      <td>East</td>\n      <td>OFF-PA-10003072</td>\n      <td>Office Supplies</td>\n      <td>Paper</td>\n      <td>Eureka Recycled Copy Paper 8 1/2\" x 11\", Ream</td>\n      <td>10.368</td>\n      <td>2</td>\n      <td>0.2</td>\n      <td>3.6288</td>\n    </tr>\n  </tbody>\n</table>\n<p>9994 rows × 21 columns</p>\n</div>"
     },
     "execution_count": 27,
     "metadata": {},
     "output_type": "execute_result"
    }
   ],
   "source": [
    "df_new = pd.concat([df_1, df_2, df_3, df_4], keys=['First Class', 'Second Class', 'Standard Class', 'Same Day'])"
   ],
   "metadata": {
    "collapsed": false,
    "ExecuteTime": {
     "end_time": "2023-05-17T01:54:46.218522700Z",
     "start_time": "2023-05-17T01:54:46.188681300Z"
    }
   }
  },
  {
   "cell_type": "code",
   "execution_count": null,
   "outputs": [],
   "source": [],
   "metadata": {
    "collapsed": false
   }
  }
 ],
 "metadata": {
  "kernelspec": {
   "display_name": "Python 3",
   "language": "python",
   "name": "python3"
  },
  "language_info": {
   "codemirror_mode": {
    "name": "ipython",
    "version": 2
   },
   "file_extension": ".py",
   "mimetype": "text/x-python",
   "name": "python",
   "nbconvert_exporter": "python",
   "pygments_lexer": "ipython2",
   "version": "2.7.6"
  }
 },
 "nbformat": 4,
 "nbformat_minor": 0
}

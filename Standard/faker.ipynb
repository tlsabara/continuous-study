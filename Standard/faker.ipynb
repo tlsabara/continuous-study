{
 "cells": [
  {
   "cell_type": "code",
   "execution_count": 1,
   "metadata": {
    "collapsed": true,
    "ExecuteTime": {
     "end_time": "2023-06-24T01:56:28.900836200Z",
     "start_time": "2023-06-24T01:56:28.871455100Z"
    }
   },
   "outputs": [],
   "source": [
    "from faker import Faker"
   ]
  },
  {
   "cell_type": "code",
   "execution_count": 6,
   "outputs": [],
   "source": [
    "fake = Faker()"
   ],
   "metadata": {
    "collapsed": false,
    "ExecuteTime": {
     "end_time": "2023-06-24T01:57:31.624913600Z",
     "start_time": "2023-06-24T01:57:31.609173200Z"
    }
   }
  },
  {
   "cell_type": "code",
   "execution_count": 7,
   "outputs": [],
   "source": [
    "Faker.seed(78)"
   ],
   "metadata": {
    "collapsed": false,
    "ExecuteTime": {
     "end_time": "2023-06-24T01:57:32.272547200Z",
     "start_time": "2023-06-24T01:57:32.265474800Z"
    }
   }
  },
  {
   "cell_type": "code",
   "execution_count": 14,
   "outputs": [
    {
     "data": {
      "text/plain": "'$70,325.65'"
     },
     "execution_count": 14,
     "metadata": {},
     "output_type": "execute_result"
    }
   ],
   "source": [
    "fake.pricetag()"
   ],
   "metadata": {
    "collapsed": false,
    "ExecuteTime": {
     "end_time": "2023-06-24T01:59:24.544421Z",
     "start_time": "2023-06-24T01:59:24.542433800Z"
    }
   }
  },
  {
   "cell_type": "code",
   "execution_count": 23,
   "outputs": [],
   "source": [
    "# gerando dados randomicos rápidamente.\n",
    "data_src = [\n",
    "    dict(\n",
    "        username=fake.user_name(),\n",
    "        nome=fake.name(),\n",
    "        email=fake.ascii_free_email(),\n",
    "        seed=fake.dga(),\n",
    "        is_active=fake.pybool(),\n",
    "        created_date=fake.date(),\n",
    "        spend_value=fake.pricetag(),\n",
    "        job=fake.job(),\n",
    "        token=fake.license_plate()\n",
    "    )\n",
    "    for i in range(10000)\n",
    "]\n"
   ],
   "metadata": {
    "collapsed": false,
    "ExecuteTime": {
     "end_time": "2023-06-24T02:40:23.730392500Z",
     "start_time": "2023-06-24T02:40:21.137364100Z"
    }
   }
  },
  {
   "cell_type": "code",
   "execution_count": 24,
   "outputs": [],
   "source": [
    "import pandas as pd\n",
    "pd.DataFrame(data_src).to_excel(\"dados_gerados.xlsx\", index=False)"
   ],
   "metadata": {
    "collapsed": false,
    "ExecuteTime": {
     "end_time": "2023-06-24T02:40:27.240705300Z",
     "start_time": "2023-06-24T02:40:25.789741200Z"
    }
   }
  }
 ],
 "metadata": {
  "kernelspec": {
   "display_name": "Python 3",
   "language": "python",
   "name": "python3"
  },
  "language_info": {
   "codemirror_mode": {
    "name": "ipython",
    "version": 2
   },
   "file_extension": ".py",
   "mimetype": "text/x-python",
   "name": "python",
   "nbconvert_exporter": "python",
   "pygments_lexer": "ipython2",
   "version": "2.7.6"
  }
 },
 "nbformat": 4,
 "nbformat_minor": 0
}

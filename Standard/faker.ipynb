{
 "cells": [
  {
   "cell_type": "code",
   "execution_count": 1,
   "metadata": {
    "collapsed": true,
    "ExecuteTime": {
     "end_time": "2023-06-24T01:56:28.900836200Z",
     "start_time": "2023-06-24T01:56:28.871455100Z"
    }
   },
   "outputs": [],
   "source": [
    "from faker import Faker"
   ]
  },
  {
   "cell_type": "code",
   "execution_count": 6,
   "outputs": [],
   "source": [
    "fake = Faker()"
   ],
   "metadata": {
    "collapsed": false,
    "ExecuteTime": {
     "end_time": "2023-06-24T01:57:31.624913600Z",
     "start_time": "2023-06-24T01:57:31.609173200Z"
    }
   }
  },
  {
   "cell_type": "code",
   "execution_count": 7,
   "outputs": [],
   "source": [
    "Faker.seed(78)"
   ],
   "metadata": {
    "collapsed": false,
    "ExecuteTime": {
     "end_time": "2023-06-24T01:57:32.272547200Z",
     "start_time": "2023-06-24T01:57:32.265474800Z"
    }
   }
  },
  {
   "cell_type": "code",
   "execution_count": 14,
   "outputs": [
    {
     "data": {
      "text/plain": "'$70,325.65'"
     },
     "execution_count": 14,
     "metadata": {},
     "output_type": "execute_result"
    }
   ],
   "source": [
    "fake.pricetag()"
   ],
   "metadata": {
    "collapsed": false,
    "ExecuteTime": {
     "end_time": "2023-06-24T01:59:24.544421Z",
     "start_time": "2023-06-24T01:59:24.542433800Z"
    }
   }
  },
  {
   "cell_type": "code",
   "execution_count": 17,
   "outputs": [],
   "source": [
    "# gerando dados randomicos rápidamente.\n",
    "data_src = [\n",
    "    {\n",
    "        'username': fake.user_name(),\n",
    "        'nome': fake.name(),\n",
    "        'email': fake.ascii_free_email(),\n",
    "        'seed':fake.dga(),\n",
    "        'is_active':fake.pybool(),\n",
    "        'created_date': fake.date(),\n",
    "        'spend_value':fake.pricetag()\n",
    "        }\n",
    "    for i in range(10000)\n",
    "]\n"
   ],
   "metadata": {
    "collapsed": false,
    "ExecuteTime": {
     "end_time": "2023-06-24T02:27:53.081581800Z",
     "start_time": "2023-06-24T02:27:50.989875900Z"
    }
   }
  },
  {
   "cell_type": "code",
   "execution_count": 18,
   "outputs": [],
   "source": [
    "import pandas as pd\n",
    "\n",
    "df = pd.DataFrame(data_src)"
   ],
   "metadata": {
    "collapsed": false,
    "ExecuteTime": {
     "end_time": "2023-06-24T02:28:17.165107400Z",
     "start_time": "2023-06-24T02:28:16.588622700Z"
    }
   }
  },
  {
   "cell_type": "code",
   "execution_count": 19,
   "outputs": [
    {
     "data": {
      "text/plain": "       username             nome                     email   \n0       david88   Margaret Clark  valeriejohnson@gmail.com  \\\n1    laceyshort  Dr. Brian Lewis  collinsjeffrey@gmail.com   \n2  henrymatthew       James Long        iaguirre@yahoo.com   \n3     iwilliams   Mariah Vasquez       chelsea85@gmail.com   \n4     zachary86   Lisa Gutierrez      kellybaker@yahoo.com   \n\n                                                seed  is_active created_date   \n0                                        lkonlby.com       True   1982-12-20  \\\n1  eievhrhstqlfbekpcjkgjuvdryhwycxinkxybqenwpjcka...       True   2002-07-16   \n2                       xkhswpuqfgicoppuvcgnjuou.org       True   1993-06-29   \n3  qmoiyvskjckxqdeyonnjnwtvscamkrlfsilgiwnwlmjwgl...       True   1987-12-31   \n4                        cxuiokrbgobbjluvnpicgld.com      False   2012-10-18   \n\n  spend_value  \n0   $2,786.62  \n1      $71.90  \n2   $9,226.57  \n3     $860.09  \n4   $8,479.39  ",
      "text/html": "<div>\n<style scoped>\n    .dataframe tbody tr th:only-of-type {\n        vertical-align: middle;\n    }\n\n    .dataframe tbody tr th {\n        vertical-align: top;\n    }\n\n    .dataframe thead th {\n        text-align: right;\n    }\n</style>\n<table border=\"1\" class=\"dataframe\">\n  <thead>\n    <tr style=\"text-align: right;\">\n      <th></th>\n      <th>username</th>\n      <th>nome</th>\n      <th>email</th>\n      <th>seed</th>\n      <th>is_active</th>\n      <th>created_date</th>\n      <th>spend_value</th>\n    </tr>\n  </thead>\n  <tbody>\n    <tr>\n      <th>0</th>\n      <td>david88</td>\n      <td>Margaret Clark</td>\n      <td>valeriejohnson@gmail.com</td>\n      <td>lkonlby.com</td>\n      <td>True</td>\n      <td>1982-12-20</td>\n      <td>$2,786.62</td>\n    </tr>\n    <tr>\n      <th>1</th>\n      <td>laceyshort</td>\n      <td>Dr. Brian Lewis</td>\n      <td>collinsjeffrey@gmail.com</td>\n      <td>eievhrhstqlfbekpcjkgjuvdryhwycxinkxybqenwpjcka...</td>\n      <td>True</td>\n      <td>2002-07-16</td>\n      <td>$71.90</td>\n    </tr>\n    <tr>\n      <th>2</th>\n      <td>henrymatthew</td>\n      <td>James Long</td>\n      <td>iaguirre@yahoo.com</td>\n      <td>xkhswpuqfgicoppuvcgnjuou.org</td>\n      <td>True</td>\n      <td>1993-06-29</td>\n      <td>$9,226.57</td>\n    </tr>\n    <tr>\n      <th>3</th>\n      <td>iwilliams</td>\n      <td>Mariah Vasquez</td>\n      <td>chelsea85@gmail.com</td>\n      <td>qmoiyvskjckxqdeyonnjnwtvscamkrlfsilgiwnwlmjwgl...</td>\n      <td>True</td>\n      <td>1987-12-31</td>\n      <td>$860.09</td>\n    </tr>\n    <tr>\n      <th>4</th>\n      <td>zachary86</td>\n      <td>Lisa Gutierrez</td>\n      <td>kellybaker@yahoo.com</td>\n      <td>cxuiokrbgobbjluvnpicgld.com</td>\n      <td>False</td>\n      <td>2012-10-18</td>\n      <td>$8,479.39</td>\n    </tr>\n  </tbody>\n</table>\n</div>"
     },
     "execution_count": 19,
     "metadata": {},
     "output_type": "execute_result"
    }
   ],
   "source": [
    "df.head()"
   ],
   "metadata": {
    "collapsed": false,
    "ExecuteTime": {
     "end_time": "2023-06-24T02:28:21.905421800Z",
     "start_time": "2023-06-24T02:28:21.542Z"
    }
   }
  },
  {
   "cell_type": "code",
   "execution_count": 20,
   "outputs": [
    {
     "name": "stdout",
     "output_type": "stream",
     "text": [
      "<class 'pandas.core.frame.DataFrame'>\n",
      "RangeIndex: 10000 entries, 0 to 9999\n",
      "Data columns (total 7 columns):\n",
      " #   Column        Non-Null Count  Dtype \n",
      "---  ------        --------------  ----- \n",
      " 0   username      10000 non-null  object\n",
      " 1   nome          10000 non-null  object\n",
      " 2   email         10000 non-null  object\n",
      " 3   seed          10000 non-null  object\n",
      " 4   is_active     10000 non-null  bool  \n",
      " 5   created_date  10000 non-null  object\n",
      " 6   spend_value   10000 non-null  object\n",
      "dtypes: bool(1), object(6)\n",
      "memory usage: 478.6+ KB\n"
     ]
    }
   ],
   "source": [
    "df.info()"
   ],
   "metadata": {
    "collapsed": false,
    "ExecuteTime": {
     "end_time": "2023-06-24T02:28:46.689706700Z",
     "start_time": "2023-06-24T02:28:46.636767600Z"
    }
   }
  },
  {
   "cell_type": "code",
   "execution_count": 21,
   "outputs": [],
   "source": [
    "df.to_excel(\"output.xlsx\")"
   ],
   "metadata": {
    "collapsed": false,
    "ExecuteTime": {
     "end_time": "2023-06-24T02:30:23.304483300Z",
     "start_time": "2023-06-24T02:30:21.741253Z"
    }
   }
  },
  {
   "cell_type": "code",
   "execution_count": 22,
   "outputs": [
    {
     "name": "stdout",
     "output_type": "stream",
     "text": [
      "/home/tluca/git_unix/continuous-study/Standard\r\n"
     ]
    }
   ],
   "source": [
    "! pwd"
   ],
   "metadata": {
    "collapsed": false,
    "ExecuteTime": {
     "end_time": "2023-06-24T02:30:41.652318800Z",
     "start_time": "2023-06-24T02:30:41.479199700Z"
    }
   }
  }
 ],
 "metadata": {
  "kernelspec": {
   "display_name": "Python 3",
   "language": "python",
   "name": "python3"
  },
  "language_info": {
   "codemirror_mode": {
    "name": "ipython",
    "version": 2
   },
   "file_extension": ".py",
   "mimetype": "text/x-python",
   "name": "python",
   "nbconvert_exporter": "python",
   "pygments_lexer": "ipython2",
   "version": "2.7.6"
  }
 },
 "nbformat": 4,
 "nbformat_minor": 0
}

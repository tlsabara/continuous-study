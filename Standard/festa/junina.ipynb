{
 "cells": [
  {
   "cell_type": "code",
   "execution_count": 20,
   "metadata": {
    "collapsed": true,
    "ExecuteTime": {
     "end_time": "2023-07-08T01:10:06.956324700Z",
     "start_time": "2023-07-08T01:10:06.956324700Z"
    }
   },
   "outputs": [],
   "source": [
    "data = [\n",
    "    {\n",
    "        'item': 'MILHO',\n",
    "        'qtd': 0,\n",
    "        'cor': 'VERDE',\n",
    "        'preco_compra': '-',\n",
    "        'preco_venda':  '-',\n",
    "        'owner': 'EDPP'\n",
    "    },\n",
    "    {\n",
    "        'item': 'BRINCADEIRA',\n",
    "        'qtd': 343,\n",
    "        'cor': 'AMARELO',\n",
    "        'preco_compra': '-',\n",
    "        'preco_venda':  5,\n",
    "        'owner': 'EDPP'\n",
    "    },\n",
    "    {\n",
    "        'item': 'CALDO',\n",
    "        'qtd': 0,\n",
    "        'cor': 'MARROM',\n",
    "        'preco_compra': '-',\n",
    "        'preco_venda':  '-',\n",
    "        'owner': 'EDPP'\n",
    "    },\n",
    "    {\n",
    "        'item': 'PIRULITO',\n",
    "        'qtd': 0,\n",
    "        'cor': 'AZUL',\n",
    "        'preco_compra': '-',\n",
    "        'preco_venda':  5,\n",
    "        'owner': 'EDPP'\n",
    "    },\n",
    "    {\n",
    "        'item': 'MAÇÃ',\n",
    "        'qtd': 0,\n",
    "        'cor': 'VERDE',\n",
    "        'preco_compra': '-',\n",
    "        'preco_venda':  '-',\n",
    "        'owner': 'EDPP'\n",
    "    },\n",
    "    {\n",
    "        'item': 'CABINE',\n",
    "        'qtd': 0,\n",
    "        'cor': 'VERMELHO',\n",
    "        'preco_compra': '-',\n",
    "        'preco_venda':  7,\n",
    "        'owner': 'EDPP'\n",
    "    },\n",
    "    # BEBIDAS LARANJA\n",
    "    {\n",
    "        'item': 'HEINEKEN',\n",
    "        'qtd': 48,\n",
    "        'cor': 'LARANJA',\n",
    "        'preco_compra': 5.58,\n",
    "        'preco_venda':  8,\n",
    "        'owner': 'EDPP'\n",
    "    },\n",
    "    {\n",
    "        'item': 'BRAHMA',\n",
    "        'qtd': 48,\n",
    "        'cor': 'LARANJA',\n",
    "        'preco_compra': 3.98,\n",
    "        'preco_venda':  5,\n",
    "        'owner': 'EDPP'\n",
    "    },\n",
    "    {\n",
    "        'item': 'COCA',\n",
    "        'qtd': 24,\n",
    "        'cor': 'LARANJA',\n",
    "        'preco_compra': 1.69,\n",
    "        'preco_venda':  3,\n",
    "        'owner': 'EDPP'\n",
    "    },\n",
    "    {\n",
    "        'item': 'SUKITA',\n",
    "        'qtd': 24,\n",
    "        'cor': 'LARANJA',\n",
    "        'preco_compra': 1.19,\n",
    "        'preco_venda':  3,\n",
    "        'owner': 'EDPP'\n",
    "    },\n",
    "    {\n",
    "        'item': 'GUARANA',\n",
    "        'qtd': 24,\n",
    "        'cor': 'LARANJA',\n",
    "        'preco_compra': 1.19,\n",
    "        'preco_venda':  3,\n",
    "        'owner': 'EDPP'\n",
    "    },\n",
    "    {\n",
    "        'item': 'SUCO',\n",
    "        'qtd': 52,\n",
    "        'cor': 'LARANJA',\n",
    "        'preco_compra': 1.59,\n",
    "        'preco_venda':  3,\n",
    "        'owner': 'EDPP'\n",
    "    },\n",
    "    {\n",
    "        'item': 'ÁGUA',\n",
    "        'qtd': 24,\n",
    "        'cor': 'LARANJA',\n",
    "        'preco_compra': 1.19,\n",
    "        'preco_venda':  2,\n",
    "        'owner': 'EDPP'\n",
    "    },\n",
    "    {\n",
    "        'item': 'CANJICA',\n",
    "        'qtd': 0,\n",
    "        'cor': 'BRANCO',\n",
    "        'preco_compra': 0,\n",
    "        'preco_venda':  8,\n",
    "        'owner': 'MIRIAM'\n",
    "    },\n",
    "]"
   ]
  },
  {
   "cell_type": "code",
   "execution_count": 21,
   "outputs": [],
   "source": [
    "import pandas as pd"
   ],
   "metadata": {
    "collapsed": false,
    "ExecuteTime": {
     "end_time": "2023-07-08T01:10:07.554318300Z",
     "start_time": "2023-07-08T01:10:07.519370500Z"
    }
   }
  },
  {
   "cell_type": "code",
   "execution_count": 22,
   "outputs": [],
   "source": [
    "df = pd.DataFrame(data)"
   ],
   "metadata": {
    "collapsed": false,
    "ExecuteTime": {
     "end_time": "2023-07-08T01:10:07.959086100Z",
     "start_time": "2023-07-08T01:10:07.959086100Z"
    }
   }
  },
  {
   "cell_type": "code",
   "execution_count": 23,
   "outputs": [],
   "source": [
    "\n",
    "df.replace('-',0, inplace=True)\n",
    "df.preco_compra = df.preco_compra.astype(\"float64\")\n",
    "df.preco_venda = df.preco_venda.astype(\"float64\")"
   ],
   "metadata": {
    "collapsed": false,
    "ExecuteTime": {
     "end_time": "2023-07-08T01:10:08.349787600Z",
     "start_time": "2023-07-08T01:10:08.334437500Z"
    }
   }
  },
  {
   "cell_type": "code",
   "execution_count": 24,
   "outputs": [
    {
     "name": "stdout",
     "output_type": "stream",
     "text": [
      "           item  qtd       cor  preco_compra  preco_venda owner\n",
      "0         MILHO    0     VERDE          0.00          0.0  EDPP\n",
      "1   BRINCADEIRA  343   AMARELO          0.00          5.0  EDPP\n",
      "2         CALDO    0    MARROM          0.00          0.0  EDPP\n",
      "3      PIRULITO    0      AZUL          0.00          5.0  EDPP\n",
      "4          MAÇÃ    0     VERDE          0.00          0.0  EDPP\n",
      "5        CABINE    0  VERMELHO          0.00          7.0  EDPP\n",
      "6      HEINEKEN   48   LARANJA          5.58          8.0  EDPP\n",
      "7        BRAHMA   48   LARANJA          3.98          5.0  EDPP\n",
      "8          COCA   24   LARANJA          1.69          3.0  EDPP\n",
      "9        SUKITA   24   LARANJA          1.19          3.0  EDPP\n",
      "10      GUARANA   24   LARANJA          1.19          3.0  EDPP\n",
      "11         SUCO   52   LARANJA          1.59          3.0  EDPP\n",
      "12         ÁGUA   24   LARANJA          1.19          2.0  EDPP\n",
      "13      CANJICA    0    BRANCO          0.00          8.0  EDPP\n"
     ]
    }
   ],
   "source": [
    "print(df)"
   ],
   "metadata": {
    "collapsed": false,
    "ExecuteTime": {
     "end_time": "2023-07-08T01:10:10.996966Z",
     "start_time": "2023-07-08T01:10:10.931094100Z"
    }
   }
  },
  {
   "cell_type": "code",
   "execution_count": null,
   "outputs": [],
   "source": [],
   "metadata": {
    "collapsed": false
   }
  }
 ],
 "metadata": {
  "kernelspec": {
   "display_name": "Python 3",
   "language": "python",
   "name": "python3"
  },
  "language_info": {
   "codemirror_mode": {
    "name": "ipython",
    "version": 2
   },
   "file_extension": ".py",
   "mimetype": "text/x-python",
   "name": "python",
   "nbconvert_exporter": "python",
   "pygments_lexer": "ipython2",
   "version": "2.7.6"
  }
 },
 "nbformat": 4,
 "nbformat_minor": 0
}
